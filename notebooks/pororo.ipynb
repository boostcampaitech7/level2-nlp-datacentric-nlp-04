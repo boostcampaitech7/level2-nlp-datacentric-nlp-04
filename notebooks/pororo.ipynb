{
 "cells": [
  {
   "cell_type": "code",
   "execution_count": null,
   "id": "initial_id",
   "metadata": {
    "collapsed": true
   },
   "outputs": [],
   "source": "!git clone https://github.com/kakaobrain/pororo"
  },
  {
   "metadata": {},
   "cell_type": "code",
   "outputs": [],
   "execution_count": null,
   "source": "#setup.py 버전 수정 tokenizer 수정",
   "id": "7a0acd7a0100b41d"
  },
  {
   "metadata": {},
   "cell_type": "code",
   "outputs": [],
   "execution_count": null,
   "source": "cd pororo",
   "id": "4c0ecc90e4ab0078"
  },
  {
   "metadata": {},
   "cell_type": "code",
   "outputs": [],
   "execution_count": null,
   "source": "pip install \"pip<24.1\"",
   "id": "ec4174670ca10a74"
  },
  {
   "metadata": {},
   "cell_type": "code",
   "outputs": [],
   "execution_count": null,
   "source": [
    "from pororo import Pororo\n",
    "import pandas as pd\n",
    "from tqdm import tqdm"
   ],
   "id": "9fd2f6ff7ea30b28"
  },
  {
   "metadata": {},
   "cell_type": "code",
   "outputs": [],
   "execution_count": null,
   "source": "df = pd.read_csv(\"/content/9_relabeling_2800.csv\") # 데이터 경로 맞게 고치기",
   "id": "d5e4ab836391bd1a"
  },
  {
   "metadata": {},
   "cell_type": "code",
   "outputs": [],
   "execution_count": null,
   "source": "mt = Pororo(task=\"translation\", lang=\"multi\")",
   "id": "5c054dea37daa0c"
  },
  {
   "metadata": {},
   "cell_type": "code",
   "outputs": [],
   "execution_count": null,
   "source": [
    "def back_translation(text, lang='en'):\n",
    "    trans_text = mt(text, src='ko',tgt=lang)\n",
    "    backtrans_text = mt(trans_text, src=lang, tgt='ko')\n",
    "    return backtrans_text"
   ],
   "id": "db838ed64cc365b0"
  },
  {
   "metadata": {},
   "cell_type": "code",
   "outputs": [],
   "execution_count": null,
   "source": [
    "tqdm.pandas()  # tqdm의 progress_apply 사용 준비\n",
    "df['back_translation'] = df['text'].progress_apply(back_translation)"
   ],
   "id": "e12249c054be63f8"
  }
 ],
 "metadata": {
  "kernelspec": {
   "display_name": "Python 3",
   "language": "python",
   "name": "python3"
  },
  "language_info": {
   "codemirror_mode": {
    "name": "ipython",
    "version": 2
   },
   "file_extension": ".py",
   "mimetype": "text/x-python",
   "name": "python",
   "nbconvert_exporter": "python",
   "pygments_lexer": "ipython2",
   "version": "2.7.6"
  }
 },
 "nbformat": 4,
 "nbformat_minor": 5
}

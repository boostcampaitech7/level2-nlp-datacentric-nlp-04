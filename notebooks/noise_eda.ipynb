{
 "cells": [
  {
   "cell_type": "code",
   "execution_count": 125,
   "metadata": {},
   "outputs": [
    {
     "name": "stdout",
     "output_type": "stream",
     "text": [
      "2800\n"
     ]
    }
   ],
   "source": [
    "import pandas as pd\n",
    "\n",
    "df = pd.read_csv(\"../data/train.csv\")\n",
    "print(len(df))"
   ]
  },
  {
   "cell_type": "markdown",
   "metadata": {},
   "source": [
    "# Noise"
   ]
  },
  {
   "cell_type": "markdown",
   "metadata": {},
   "source": [
    "### 자주 쓰이는 한자 탐색"
   ]
  },
  {
   "cell_type": "code",
   "execution_count": 126,
   "metadata": {},
   "outputs": [],
   "source": [
    "import pandas as pd\n",
    "import re\n",
    "from collections import Counter\n",
    "\n",
    "# 한자 추출 함수 정의\n",
    "def extract_hanza(text):\n",
    "    # CJK 통합 한자 범위(U+4E00 ~ U+9FFF)에 해당하는 문자 추출\n",
    "    return \"\".join(re.findall(\"[\\u4e00-\\u9fff]\", text))\n",
    "\n",
    "# 문자 빈도 축정\n",
    "def get_char_frequency(text_list):\n",
    "    # 모든 문자를 하나의 리스트로 합치기\n",
    "    chars = [char for text in text_list for char in text]\n",
    "    # Counter를 사용하여 빈도 계산\n",
    "    char_counts = Counter(chars)\n",
    "    # 빈도순으로 정렬\n",
    "    return pd.Series(char_counts).sort_values(ascending=False)"
   ]
  },
  {
   "cell_type": "code",
   "execution_count": 127,
   "metadata": {},
   "outputs": [
    {
     "name": "stdout",
     "output_type": "stream",
     "text": [
      "23 ['美', '北', '中', '朴', '靑', '日', '與', '文', '英', '野', '佛', '伊', '獨', '反', '前', '軍', '硏', '對', '外', '社', '黃', '亞', '韓']\n"
     ]
    }
   ],
   "source": [
    "# 한자 빈도수 측정\n",
    "df[\"hanza\"] = df[\"text\"].apply(extract_hanza)\n",
    "\n",
    "char_frequency = get_char_frequency(df[\"hanza\"])\n",
    "filtered_chars = char_frequency[char_frequency >= 2]\n",
    "\n",
    "zazu_hanza = list(filtered_chars.keys())\n",
    "print(len(zazu_hanza), zazu_hanza)"
   ]
  },
  {
   "cell_type": "code",
   "execution_count": 128,
   "metadata": {},
   "outputs": [
    {
     "name": "stdout",
     "output_type": "stream",
     "text": [
      "313\n"
     ]
    },
    {
     "data": {
      "text/html": [
       "<div>\n",
       "<style scoped>\n",
       "    .dataframe tbody tr th:only-of-type {\n",
       "        vertical-align: middle;\n",
       "    }\n",
       "\n",
       "    .dataframe tbody tr th {\n",
       "        vertical-align: top;\n",
       "    }\n",
       "\n",
       "    .dataframe thead th {\n",
       "        text-align: right;\n",
       "    }\n",
       "</style>\n",
       "<table border=\"1\" class=\"dataframe\">\n",
       "  <thead>\n",
       "    <tr style=\"text-align: right;\">\n",
       "      <th></th>\n",
       "      <th>ID</th>\n",
       "      <th>text</th>\n",
       "      <th>target</th>\n",
       "    </tr>\n",
       "  </thead>\n",
       "  <tbody>\n",
       "    <tr>\n",
       "      <th>4</th>\n",
       "      <td>ynat-v1_train_00004</td>\n",
       "      <td>pI美대선I앞두고 R2fr단 발] $비해 감시 강화</td>\n",
       "      <td>6</td>\n",
       "    </tr>\n",
       "    <tr>\n",
       "      <th>5</th>\n",
       "      <td>ynat-v1_train_00005</td>\n",
       "      <td>美성인 6명 중 1명꼴 배우자·연인 빚 떠안은 적 있다</td>\n",
       "      <td>0</td>\n",
       "    </tr>\n",
       "    <tr>\n",
       "      <th>8</th>\n",
       "      <td>ynat-v1_train_00008</td>\n",
       "      <td>朴대통령 얼마나 많이 놀라셨어요…경주 지진현장 방문종합</td>\n",
       "      <td>6</td>\n",
       "    </tr>\n",
       "    <tr>\n",
       "      <th>50</th>\n",
       "      <td>ynat-v1_train_00050</td>\n",
       "      <td>美MBA[여성 비율x계속 x가4주$E19a대 U입생 중Ym,%</td>\n",
       "      <td>6</td>\n",
       "    </tr>\n",
       "    <tr>\n",
       "      <th>58</th>\n",
       "      <td>ynat-v1_train_00058</td>\n",
       "      <td>한#M2 !는 유`8 치료제 오B솔 美 임{ 3a 본격화</td>\n",
       "      <td>6</td>\n",
       "    </tr>\n",
       "  </tbody>\n",
       "</table>\n",
       "</div>"
      ],
      "text/plain": [
       "                     ID                                text  target\n",
       "4   ynat-v1_train_00004        pI美대선I앞두고 R2fr단 발] $비해 감시 강화       6\n",
       "5   ynat-v1_train_00005      美성인 6명 중 1명꼴 배우자·연인 빚 떠안은 적 있다       0\n",
       "8   ynat-v1_train_00008      朴대통령 얼마나 많이 놀라셨어요…경주 지진현장 방문종합       6\n",
       "50  ynat-v1_train_00050  美MBA[여성 비율x계속 x가4주$E19a대 U입생 중Ym,%       6\n",
       "58  ynat-v1_train_00058     한#M2 !는 유`8 치료제 오B솔 美 임{ 3a 본격화       6"
      ]
     },
     "execution_count": 128,
     "metadata": {},
     "output_type": "execute_result"
    }
   ],
   "source": [
    "df_hanza = df[df[\"hanza\"].str.len()!=0]\n",
    "print(len(df_hanza))\n",
    "df_hanza = df_hanza[[\"ID\", \"text\", \"target\"]]\n",
    "df_hanza.to_csv(\"hanza.csv\",index=False)\n",
    "df_hanza.head()"
   ]
  },
  {
   "cell_type": "markdown",
   "metadata": {},
   "source": [
    "### 한자 전부 제거"
   ]
  },
  {
   "cell_type": "code",
   "execution_count": 129,
   "metadata": {},
   "outputs": [],
   "source": [
    "def remove_chars_from_text(df, char_list):\n",
    "    # 모든 문자를 정규 표현식 패턴으로 변환\n",
    "    pattern = \"[\" + re.escape(\"\".join(char_list)) + \"]\"\n",
    "\n",
    "    # 'text' 열에서 해당 패턴의 문자 제거\n",
    "    df[\"filtered_text\"] = df[\"filtered_text\"].str.replace(pattern, \"\", regex=True)\n",
    "    return df"
   ]
  },
  {
   "cell_type": "code",
   "execution_count": 130,
   "metadata": {},
   "outputs": [
    {
     "data": {
      "text/html": [
       "<div>\n",
       "<style scoped>\n",
       "    .dataframe tbody tr th:only-of-type {\n",
       "        vertical-align: middle;\n",
       "    }\n",
       "\n",
       "    .dataframe tbody tr th {\n",
       "        vertical-align: top;\n",
       "    }\n",
       "\n",
       "    .dataframe thead th {\n",
       "        text-align: right;\n",
       "    }\n",
       "</style>\n",
       "<table border=\"1\" class=\"dataframe\">\n",
       "  <thead>\n",
       "    <tr style=\"text-align: right;\">\n",
       "      <th></th>\n",
       "      <th>ID</th>\n",
       "      <th>text</th>\n",
       "      <th>target</th>\n",
       "      <th>filtered_text</th>\n",
       "    </tr>\n",
       "  </thead>\n",
       "  <tbody>\n",
       "    <tr>\n",
       "      <th>0</th>\n",
       "      <td>ynat-v1_train_00000</td>\n",
       "      <td>정i :파1 미사z KT( 이용기간 2e 단] Q분종U2보</td>\n",
       "      <td>4</td>\n",
       "      <td>정i :파1 미사z KT( 이용기간 2e 단] Q분종U2보</td>\n",
       "    </tr>\n",
       "    <tr>\n",
       "      <th>1</th>\n",
       "      <td>ynat-v1_train_00001</td>\n",
       "      <td>K찰.국DLwo 로L3한N% 회장 2 T0&amp;}송=</td>\n",
       "      <td>3</td>\n",
       "      <td>K찰.국DLwo 로L3한N% 회장 2 T0&amp;}송=</td>\n",
       "    </tr>\n",
       "    <tr>\n",
       "      <th>2</th>\n",
       "      <td>ynat-v1_train_00002</td>\n",
       "      <td>m 김정) 자주통일 새,?r열1나가야1보</td>\n",
       "      <td>2</td>\n",
       "      <td>m 김정) 자주통일 새,?r열1나가야1보</td>\n",
       "    </tr>\n",
       "    <tr>\n",
       "      <th>3</th>\n",
       "      <td>ynat-v1_train_00003</td>\n",
       "      <td>갤노트8 주말 27만대 개통…시장은 불법 보조금 얼룩</td>\n",
       "      <td>5</td>\n",
       "      <td>갤노트8 주말 27만대 개통…시장은 불법 보조금 얼룩</td>\n",
       "    </tr>\n",
       "    <tr>\n",
       "      <th>4</th>\n",
       "      <td>ynat-v1_train_00004</td>\n",
       "      <td>pI美대선I앞두고 R2fr단 발] $비해 감시 강화</td>\n",
       "      <td>6</td>\n",
       "      <td>pI대선I앞두고 R2fr단 발] $비해 감시 강화</td>\n",
       "    </tr>\n",
       "  </tbody>\n",
       "</table>\n",
       "</div>"
      ],
      "text/plain": [
       "                    ID                              text  target  \\\n",
       "0  ynat-v1_train_00000  정i :파1 미사z KT( 이용기간 2e 단] Q분종U2보       4   \n",
       "1  ynat-v1_train_00001       K찰.국DLwo 로L3한N% 회장 2 T0&}송=       3   \n",
       "2  ynat-v1_train_00002            m 김정) 자주통일 새,?r열1나가야1보       2   \n",
       "3  ynat-v1_train_00003     갤노트8 주말 27만대 개통…시장은 불법 보조금 얼룩       5   \n",
       "4  ynat-v1_train_00004      pI美대선I앞두고 R2fr단 발] $비해 감시 강화       6   \n",
       "\n",
       "                      filtered_text  \n",
       "0  정i :파1 미사z KT( 이용기간 2e 단] Q분종U2보  \n",
       "1       K찰.국DLwo 로L3한N% 회장 2 T0&}송=  \n",
       "2            m 김정) 자주통일 새,?r열1나가야1보  \n",
       "3     갤노트8 주말 27만대 개통…시장은 불법 보조금 얼룩  \n",
       "4       pI대선I앞두고 R2fr단 발] $비해 감시 강화  "
      ]
     },
     "execution_count": 130,
     "metadata": {},
     "output_type": "execute_result"
    }
   ],
   "source": [
    "df[\"filtered_text\"] = df[\"text\"].copy()\n",
    "df = remove_chars_from_text(df, zazu_hanza)\n",
    "df = df.drop(columns=[\"hanza\"])\n",
    "df.head()"
   ]
  },
  {
   "cell_type": "markdown",
   "metadata": {},
   "source": [
    "### 자주 쓰이는 특수문자 탐색"
   ]
  },
  {
   "cell_type": "code",
   "execution_count": 131,
   "metadata": {},
   "outputs": [],
   "source": [
    "#영어, 숫자, 한글 제외\n",
    "def extract_special(text):\n",
    "    # CJK 통합 한자 범위(U+4E00 ~ U+9FFF)에 해당하는 문자 추출\n",
    "    return \"\".join(re.findall(r\"[^a-zA-Z0-9\\sㄱ-ㅎㅏ-ㅣ가-힣]\", text))"
   ]
  },
  {
   "cell_type": "code",
   "execution_count": 132,
   "metadata": {},
   "outputs": [
    {
     "name": "stdout",
     "output_type": "stream",
     "text": [
      "34 ['…', '.', '·', '%', '\"', '-', '(', '|', '?', ',', '}', ':', '&', '_', '{', '~', '#', '\\\\', '*', ')', '$', ';', '`', '=', '+', \"'\", '!', '@', '<', '/', '>', '[', ']', '^']\n"
     ]
    }
   ],
   "source": [
    "# 특수문자 빈도수 측정\n",
    "special = df[\"filtered_text\"].apply(extract_special)\n",
    "char_frequency = get_char_frequency(special)\n",
    "filtered_chars = char_frequency[char_frequency >= 100]\n",
    "zazu_special = list(filtered_chars.keys())\n",
    "print(len(zazu_special),zazu_special)"
   ]
  },
  {
   "cell_type": "markdown",
   "metadata": {},
   "source": [
    "### 100번 이상 사용된 특수문자 제거"
   ]
  },
  {
   "cell_type": "code",
   "execution_count": 133,
   "metadata": {},
   "outputs": [],
   "source": [
    "def remove_chars_from_text(df, char_list):\n",
    "    # 모든 문자를 정규 표현식 패턴으로 변환\n",
    "    pattern = \"[\" + re.escape(\"\".join(char_list)) + \"]\"\n",
    "\n",
    "    # 'text' 열에서 해당 패턴의 문자 제거\n",
    "    df[\"filtered_text\"] = df[\"filtered_text\"].str.replace(pattern, \"\", regex=True)\n",
    "    return df"
   ]
  },
  {
   "cell_type": "code",
   "execution_count": 134,
   "metadata": {},
   "outputs": [
    {
     "data": {
      "text/html": [
       "<div>\n",
       "<style scoped>\n",
       "    .dataframe tbody tr th:only-of-type {\n",
       "        vertical-align: middle;\n",
       "    }\n",
       "\n",
       "    .dataframe tbody tr th {\n",
       "        vertical-align: top;\n",
       "    }\n",
       "\n",
       "    .dataframe thead th {\n",
       "        text-align: right;\n",
       "    }\n",
       "</style>\n",
       "<table border=\"1\" class=\"dataframe\">\n",
       "  <thead>\n",
       "    <tr style=\"text-align: right;\">\n",
       "      <th></th>\n",
       "      <th>ID</th>\n",
       "      <th>text</th>\n",
       "      <th>target</th>\n",
       "      <th>filtered_text</th>\n",
       "      <th>filtered_list</th>\n",
       "    </tr>\n",
       "  </thead>\n",
       "  <tbody>\n",
       "    <tr>\n",
       "      <th>0</th>\n",
       "      <td>ynat-v1_train_00000</td>\n",
       "      <td>정i :파1 미사z KT( 이용기간 2e 단] Q분종U2보</td>\n",
       "      <td>4</td>\n",
       "      <td>정i 파1 미사z KT 이용기간 2e 단 Q분종U2보</td>\n",
       "      <td>[정i, 파1, 미사z, KT, 이용기간, 2e, 단, Q분종U2보]</td>\n",
       "    </tr>\n",
       "    <tr>\n",
       "      <th>1</th>\n",
       "      <td>ynat-v1_train_00001</td>\n",
       "      <td>K찰.국DLwo 로L3한N% 회장 2 T0&amp;}송=</td>\n",
       "      <td>3</td>\n",
       "      <td>K찰국DLwo 로L3한N 회장 2 T0송</td>\n",
       "      <td>[K찰국DLwo, 로L3한N, 회장, 2, T0송]</td>\n",
       "    </tr>\n",
       "    <tr>\n",
       "      <th>2</th>\n",
       "      <td>ynat-v1_train_00002</td>\n",
       "      <td>m 김정) 자주통일 새,?r열1나가야1보</td>\n",
       "      <td>2</td>\n",
       "      <td>m 김정 자주통일 새r열1나가야1보</td>\n",
       "      <td>[m, 김정, 자주통일, 새r열1나가야1보]</td>\n",
       "    </tr>\n",
       "    <tr>\n",
       "      <th>3</th>\n",
       "      <td>ynat-v1_train_00003</td>\n",
       "      <td>갤노트8 주말 27만대 개통…시장은 불법 보조금 얼룩</td>\n",
       "      <td>5</td>\n",
       "      <td>갤노트8 주말 27만대 개통시장은 불법 보조금 얼룩</td>\n",
       "      <td>[갤노트8, 주말, 27만대, 개통시장은, 불법, 보조금, 얼룩]</td>\n",
       "    </tr>\n",
       "    <tr>\n",
       "      <th>4</th>\n",
       "      <td>ynat-v1_train_00004</td>\n",
       "      <td>pI美대선I앞두고 R2fr단 발] $비해 감시 강화</td>\n",
       "      <td>6</td>\n",
       "      <td>pI대선I앞두고 R2fr단 발 비해 감시 강화</td>\n",
       "      <td>[pI대선I앞두고, R2fr단, 발, 비해, 감시, 강화]</td>\n",
       "    </tr>\n",
       "  </tbody>\n",
       "</table>\n",
       "</div>"
      ],
      "text/plain": [
       "                    ID                              text  target  \\\n",
       "0  ynat-v1_train_00000  정i :파1 미사z KT( 이용기간 2e 단] Q분종U2보       4   \n",
       "1  ynat-v1_train_00001       K찰.국DLwo 로L3한N% 회장 2 T0&}송=       3   \n",
       "2  ynat-v1_train_00002            m 김정) 자주통일 새,?r열1나가야1보       2   \n",
       "3  ynat-v1_train_00003     갤노트8 주말 27만대 개통…시장은 불법 보조금 얼룩       5   \n",
       "4  ynat-v1_train_00004      pI美대선I앞두고 R2fr단 발] $비해 감시 강화       6   \n",
       "\n",
       "                   filtered_text                           filtered_list  \n",
       "0  정i 파1 미사z KT 이용기간 2e 단 Q분종U2보  [정i, 파1, 미사z, KT, 이용기간, 2e, 단, Q분종U2보]  \n",
       "1         K찰국DLwo 로L3한N 회장 2 T0송            [K찰국DLwo, 로L3한N, 회장, 2, T0송]  \n",
       "2            m 김정 자주통일 새r열1나가야1보                [m, 김정, 자주통일, 새r열1나가야1보]  \n",
       "3   갤노트8 주말 27만대 개통시장은 불법 보조금 얼룩    [갤노트8, 주말, 27만대, 개통시장은, 불법, 보조금, 얼룩]  \n",
       "4      pI대선I앞두고 R2fr단 발 비해 감시 강화        [pI대선I앞두고, R2fr단, 발, 비해, 감시, 강화]  "
      ]
     },
     "execution_count": 134,
     "metadata": {},
     "output_type": "execute_result"
    }
   ],
   "source": [
    "df = remove_chars_from_text(df, zazu_special)\n",
    "df[\"filtered_list\"] = df[\"filtered_text\"].apply(str.split)\n",
    "df.head()"
   ]
  },
  {
   "cell_type": "markdown",
   "metadata": {},
   "source": [
    "### 형태소 분석기를 통한 한글+영문+숫자+특문 혼합 단어 탐지"
   ]
  },
  {
   "cell_type": "code",
   "execution_count": 135,
   "metadata": {},
   "outputs": [],
   "source": [
    "# !pip install KoNLPy"
   ]
  },
  {
   "cell_type": "code",
   "execution_count": 136,
   "metadata": {},
   "outputs": [],
   "source": [
    "# 분석기 임포트\n",
    "from konlpy.tag import *\n",
    "\n",
    "# 각 분석기 객체 생성\n",
    "hannanum = Hannanum()\n",
    "kkma = Kkma()\n",
    "komoran = Komoran()\n",
    "okt = Okt()"
   ]
  },
  {
   "cell_type": "code",
   "execution_count": 137,
   "metadata": {},
   "outputs": [],
   "source": [
    "df[\"hannanum\"] = df[\"filtered_list\"].apply(lambda li: [hannanum.pos(e) for e in li])\n",
    "df[\"kkma\"] = df[\"filtered_list\"].apply(lambda li: [kkma.pos(e) for e in li])\n",
    "df[\"komoran\"] = df[\"filtered_list\"].apply(lambda li: [komoran.pos(e) for e in li])\n",
    "df[\"okt\"] = df[\"filtered_list\"].apply(lambda li: [okt.pos(e) for e in li])"
   ]
  },
  {
   "cell_type": "code",
   "execution_count": 138,
   "metadata": {},
   "outputs": [],
   "source": [
    "from collections import Counter\n",
    "\n",
    "\n",
    "def check_tags_count(morpheme_lists):\n",
    "    # 태그 카운트\n",
    "    all_tags = [tag for sublist in morpheme_lists for _, tag in sublist]\n",
    "    tag_counts = Counter(all_tags)\n",
    "\n",
    "    alpha = tag_counts[\"Alpha\"]\n",
    "    punctuation = tag_counts[\"Punctuation\"]\n",
    "    number = tag_counts[\"Number\"]\n",
    "    rest = sum(tag_counts.values()) - (alpha + punctuation +number)\n",
    "\n",
    "    # 조건 리스트\n",
    "    conditions = []\n",
    "    conditions.append(alpha >= 1 and punctuation >= 1 and number >= 1)\n",
    "    conditions.append(alpha >= 2)\n",
    "    conditions.append(punctuation >= 2)\n",
    "    conditions.append(number >= 2)\n",
    "\n",
    "    return any(conditions)\n",
    "\n",
    "# 데이터프레임에 적용\n",
    "df[\"check\"] = df[\"okt\"].apply(check_tags_count)"
   ]
  },
  {
   "cell_type": "code",
   "execution_count": 139,
   "metadata": {},
   "outputs": [
    {
     "name": "stdout",
     "output_type": "stream",
     "text": [
      "1777\n"
     ]
    },
    {
     "data": {
      "text/html": [
       "<div>\n",
       "<style scoped>\n",
       "    .dataframe tbody tr th:only-of-type {\n",
       "        vertical-align: middle;\n",
       "    }\n",
       "\n",
       "    .dataframe tbody tr th {\n",
       "        vertical-align: top;\n",
       "    }\n",
       "\n",
       "    .dataframe thead th {\n",
       "        text-align: right;\n",
       "    }\n",
       "</style>\n",
       "<table border=\"1\" class=\"dataframe\">\n",
       "  <thead>\n",
       "    <tr style=\"text-align: right;\">\n",
       "      <th></th>\n",
       "      <th>ID</th>\n",
       "      <th>target</th>\n",
       "      <th>text</th>\n",
       "    </tr>\n",
       "  </thead>\n",
       "  <tbody>\n",
       "    <tr>\n",
       "      <th>0</th>\n",
       "      <td>ynat-v1_train_00000</td>\n",
       "      <td>4</td>\n",
       "      <td>정i :파1 미사z KT( 이용기간 2e 단] Q분종U2보</td>\n",
       "    </tr>\n",
       "    <tr>\n",
       "      <th>1</th>\n",
       "      <td>ynat-v1_train_00001</td>\n",
       "      <td>3</td>\n",
       "      <td>K찰.국DLwo 로L3한N% 회장 2 T0&amp;}송=</td>\n",
       "    </tr>\n",
       "    <tr>\n",
       "      <th>2</th>\n",
       "      <td>ynat-v1_train_00002</td>\n",
       "      <td>2</td>\n",
       "      <td>m 김정) 자주통일 새,?r열1나가야1보</td>\n",
       "    </tr>\n",
       "    <tr>\n",
       "      <th>3</th>\n",
       "      <td>ynat-v1_train_00003</td>\n",
       "      <td>5</td>\n",
       "      <td>갤노트8 주말 27만대 개통…시장은 불법 보조금 얼룩</td>\n",
       "    </tr>\n",
       "    <tr>\n",
       "      <th>4</th>\n",
       "      <td>ynat-v1_train_00004</td>\n",
       "      <td>6</td>\n",
       "      <td>pI美대선I앞두고 R2fr단 발] $비해 감시 강화</td>\n",
       "    </tr>\n",
       "  </tbody>\n",
       "</table>\n",
       "</div>"
      ],
      "text/plain": [
       "                    ID  target                              text\n",
       "0  ynat-v1_train_00000       4  정i :파1 미사z KT( 이용기간 2e 단] Q분종U2보\n",
       "1  ynat-v1_train_00001       3       K찰.국DLwo 로L3한N% 회장 2 T0&}송=\n",
       "2  ynat-v1_train_00002       2            m 김정) 자주통일 새,?r열1나가야1보\n",
       "3  ynat-v1_train_00003       5     갤노트8 주말 27만대 개통…시장은 불법 보조금 얼룩\n",
       "4  ynat-v1_train_00004       6      pI美대선I앞두고 R2fr단 발] $비해 감시 강화"
      ]
     },
     "execution_count": 139,
     "metadata": {},
     "output_type": "execute_result"
    }
   ],
   "source": [
    "df_morph_condition = df[df[\"check\"]==True]\n",
    "df_morph_condition = df_morph_condition[[\"ID\",\"target\",\"text\"]]\n",
    "df_morph_condition.to_csv(\"df_morph_condition.csv\",index=False)\n",
    "print(len(df_morph_condition))\n",
    "df_morph_condition.head()"
   ]
  },
  {
   "cell_type": "markdown",
   "metadata": {},
   "source": [
    "### 한글 샌드위치 패턴"
   ]
  },
  {
   "cell_type": "code",
   "execution_count": 33,
   "metadata": {},
   "outputs": [],
   "source": [
    "# def detect_sandwich_pattern(text):\n",
    "#     pattern = r\"[가-힣]+[^가-힣]+[가-힣]+\"\n",
    "#     return bool(re.search(pattern, text))\n",
    "\n",
    "def detect_sandwich_pattern(text_list):\n",
    "    return any(\n",
    "        bool(re.search(r\"[가-힣]+[^가-힣]+[가-힣]+\", str(item))) for item in text_list\n",
    "    )\n",
    "\n",
    "df[\"sandwich\"] = df[\"filtered_list\"].apply(detect_sandwich_pattern)\n",
    "sandwich_df = df[df[\"sandwich\"]==True]\n",
    "not_sandwich_df = df[df[\"sandwich\"] == False]"
   ]
  },
  {
   "cell_type": "code",
   "execution_count": 34,
   "metadata": {},
   "outputs": [
    {
     "name": "stdout",
     "output_type": "stream",
     "text": [
      "2069 731\n"
     ]
    }
   ],
   "source": [
    "print(len(sandwich_df),len(not_sandwich_df))"
   ]
  },
  {
   "cell_type": "code",
   "execution_count": 35,
   "metadata": {},
   "outputs": [],
   "source": [
    "not_sandwich_df = not_sandwich_df[[\"ID\", \"target\", \"text\"]]\n",
    "not_sandwich_df.to_csv(\"not_sandwich_df.csv\", index=False)"
   ]
  },
  {
   "cell_type": "markdown",
   "metadata": {},
   "source": [
    "### 특수문자 기반 노이즈 탐색"
   ]
  },
  {
   "cell_type": "code",
   "execution_count": null,
   "metadata": {},
   "outputs": [],
   "source": [
    "import re\n",
    "\n",
    "# 특수문자 기반의 노이즈 탐색 \n",
    "def calculate_noise_ratio(df):\n",
    "    df[\"noise_ratio\"] = df[\"text\"].apply(\n",
    "        lambda x: (\n",
    "            round((len(re.findall(r\"[^a-zA-Z0-9\\sㄱ-ㅎㅏ-ㅣ가-힣]\", x)) / len(x)),4)\n",
    "            if len(x) > 0\n",
    "            else 0\n",
    "        )\n",
    "    )\n",
    "    return df"
   ]
  },
  {
   "cell_type": "code",
   "execution_count": null,
   "metadata": {},
   "outputs": [],
   "source": [
    "df = calculate_noise_ratio(df)"
   ]
  },
  {
   "cell_type": "code",
   "execution_count": null,
   "metadata": {},
   "outputs": [
    {
     "name": "stdout",
     "output_type": "stream",
     "text": [
      "1553\n"
     ]
    },
    {
     "data": {
      "text/html": [
       "<div>\n",
       "<style scoped>\n",
       "    .dataframe tbody tr th:only-of-type {\n",
       "        vertical-align: middle;\n",
       "    }\n",
       "\n",
       "    .dataframe tbody tr th {\n",
       "        vertical-align: top;\n",
       "    }\n",
       "\n",
       "    .dataframe thead th {\n",
       "        text-align: right;\n",
       "    }\n",
       "</style>\n",
       "<table border=\"1\" class=\"dataframe\">\n",
       "  <thead>\n",
       "    <tr style=\"text-align: right;\">\n",
       "      <th></th>\n",
       "      <th>ID</th>\n",
       "      <th>text</th>\n",
       "      <th>target</th>\n",
       "      <th>hanza</th>\n",
       "      <th>special</th>\n",
       "      <th>filtered_text</th>\n",
       "      <th>noise_ratio</th>\n",
       "    </tr>\n",
       "  </thead>\n",
       "  <tbody>\n",
       "    <tr>\n",
       "      <th>2611</th>\n",
       "      <td>ynat-v1_train_02611</td>\n",
       "      <td>EU 167DI 56w  )0 이용DK마크 k9%g최고$프랑c 42% Qq</td>\n",
       "      <td>6</td>\n",
       "      <td></td>\n",
       "      <td>)%$%</td>\n",
       "      <td>EU 167DI 56w  0 이용DK마크 k9g최고프랑c 42 Qq</td>\n",
       "      <td>0.0976</td>\n",
       "    </tr>\n",
       "    <tr>\n",
       "      <th>745</th>\n",
       "      <td>ynat-v1_train_00745</td>\n",
       "      <td>서울 표준주택 공시가 17.75%↑…15억 초과 고가주택 정밀 조준종합2보</td>\n",
       "      <td>4</td>\n",
       "      <td></td>\n",
       "      <td>.%↑…</td>\n",
       "      <td>서울 표준주택 공시가 177515억 초과 고가주택 정밀 조준종합2보</td>\n",
       "      <td>0.0976</td>\n",
       "    </tr>\n",
       "    <tr>\n",
       "      <th>2376</th>\n",
       "      <td>ynat-v1_train_02376</td>\n",
       "      <td>부0 제조업 경기전'지수 곤V)I…조선기자6P 역F 최악</td>\n",
       "      <td>5</td>\n",
       "      <td></td>\n",
       "      <td>')…</td>\n",
       "      <td>부0 제조업 경기전지수 곤VI조선기자6P 역F 최악</td>\n",
       "      <td>0.0968</td>\n",
       "    </tr>\n",
       "    <tr>\n",
       "      <th>126</th>\n",
       "      <td>ynat-v1_train_00126</td>\n",
       "      <td>날씨-미z먼지 보통 수y…오후부터 xJ지고:곳곳 F12일</td>\n",
       "      <td>0</td>\n",
       "      <td></td>\n",
       "      <td>-…:</td>\n",
       "      <td>날씨미z먼지 보통 수y오후부터 xJ지고곳곳 F12일</td>\n",
       "      <td>0.0968</td>\n",
       "    </tr>\n",
       "    <tr>\n",
       "      <th>1974</th>\n",
       "      <td>ynat-v1_train_01974</td>\n",
       "      <td>프As구L수원 5정원 감독 16강 $는 길에 방심=*없다</td>\n",
       "      <td>1</td>\n",
       "      <td></td>\n",
       "      <td>$=*</td>\n",
       "      <td>프As구L수원 5정원 감독 16강 는 길에 방심없다</td>\n",
       "      <td>0.0968</td>\n",
       "    </tr>\n",
       "  </tbody>\n",
       "</table>\n",
       "</div>"
      ],
      "text/plain": [
       "                       ID                                       text  target  \\\n",
       "2611  ynat-v1_train_02611  EU 167DI 56w  )0 이용DK마크 k9%g최고$프랑c 42% Qq       6   \n",
       "745   ynat-v1_train_00745  서울 표준주택 공시가 17.75%↑…15억 초과 고가주택 정밀 조준종합2보       4   \n",
       "2376  ynat-v1_train_02376            부0 제조업 경기전'지수 곤V)I…조선기자6P 역F 최악       5   \n",
       "126   ynat-v1_train_00126            날씨-미z먼지 보통 수y…오후부터 xJ지고:곳곳 F12일       0   \n",
       "1974  ynat-v1_train_01974            프As구L수원 5정원 감독 16강 $는 길에 방심=*없다       1   \n",
       "\n",
       "     hanza special                          filtered_text  noise_ratio  \n",
       "2611          )%$%  EU 167DI 56w  0 이용DK마크 k9g최고프랑c 42 Qq       0.0976  \n",
       "745           .%↑…  서울 표준주택 공시가 177515억 초과 고가주택 정밀 조준종합2보       0.0976  \n",
       "2376           ')…           부0 제조업 경기전지수 곤VI조선기자6P 역F 최악       0.0968  \n",
       "126            -…:           날씨미z먼지 보통 수y오후부터 xJ지고곳곳 F12일       0.0968  \n",
       "1974           $=*           프As구L수원 5정원 감독 16강 는 길에 방심없다       0.0968  "
      ]
     },
     "metadata": {},
     "output_type": "display_data"
    }
   ],
   "source": [
    "less_special_character = df[df[\"noise_ratio\"]<0.1]\n",
    "print(len(less_special_character))\n",
    "less_special_character = less_special_character.sort_values(\n",
    "    by=[\"noise_ratio\"], axis=0, ascending=False\n",
    ")\n",
    "less_special_character.to_csv(\"less_special_character.csv\", index=False)\n",
    "less_special_character.head()"
   ]
  },
  {
   "cell_type": "code",
   "execution_count": null,
   "metadata": {},
   "outputs": [
    {
     "name": "stdout",
     "output_type": "stream",
     "text": [
      "1247\n"
     ]
    },
    {
     "data": {
      "text/html": [
       "<div>\n",
       "<style scoped>\n",
       "    .dataframe tbody tr th:only-of-type {\n",
       "        vertical-align: middle;\n",
       "    }\n",
       "\n",
       "    .dataframe tbody tr th {\n",
       "        vertical-align: top;\n",
       "    }\n",
       "\n",
       "    .dataframe thead th {\n",
       "        text-align: right;\n",
       "    }\n",
       "</style>\n",
       "<table border=\"1\" class=\"dataframe\">\n",
       "  <thead>\n",
       "    <tr style=\"text-align: right;\">\n",
       "      <th></th>\n",
       "      <th>ID</th>\n",
       "      <th>text</th>\n",
       "      <th>target</th>\n",
       "      <th>hanza</th>\n",
       "      <th>special</th>\n",
       "      <th>filtered_text</th>\n",
       "      <th>noise_ratio</th>\n",
       "    </tr>\n",
       "  </thead>\n",
       "  <tbody>\n",
       "    <tr>\n",
       "      <th>1723</th>\n",
       "      <td>ynat-v1_train_01723</td>\n",
       "      <td>특징X mx소%\" q7적R전망Q1강l</td>\n",
       "      <td>5</td>\n",
       "      <td></td>\n",
       "      <td>%\"</td>\n",
       "      <td>특징X mx소 q7적R전망Q1강l</td>\n",
       "      <td>0.1</td>\n",
       "    </tr>\n",
       "    <tr>\n",
       "      <th>528</th>\n",
       "      <td>ynat-v1_train_00528</td>\n",
       "      <td>朴대M령 북핵은/턱밑 비;M해결 않으면c한미에 큰 피f</td>\n",
       "      <td>2</td>\n",
       "      <td>朴</td>\n",
       "      <td>朴/;</td>\n",
       "      <td>대M령 북핵은턱밑 비M해결 않으면c한미에 큰 피f</td>\n",
       "      <td>0.1</td>\n",
       "    </tr>\n",
       "    <tr>\n",
       "      <th>1263</th>\n",
       "      <td>ynat-v1_train_01263</td>\n",
       "      <td>v남도 P이버O,Z:뉴스에 지역 언론.5포함 O식 요청</td>\n",
       "      <td>3</td>\n",
       "      <td></td>\n",
       "      <td>,:.</td>\n",
       "      <td>v남도 P이버OZ뉴스에 지역 언론5포함 O식 요청</td>\n",
       "      <td>0.1</td>\n",
       "    </tr>\n",
       "    <tr>\n",
       "      <th>2347</th>\n",
       "      <td>ynat-v1_train_02347</td>\n",
       "      <td>北미사일 발사 日언론 신속 보도…NHK는 정규방송 중단</td>\n",
       "      <td>5</td>\n",
       "      <td>北日</td>\n",
       "      <td>北日…</td>\n",
       "      <td>미사일 발사 언론 신속 보도NHK는 정규방송 중단</td>\n",
       "      <td>0.1</td>\n",
       "    </tr>\n",
       "    <tr>\n",
       "      <th>2371</th>\n",
       "      <td>ynat-v1_train_02371</td>\n",
       "      <td>현cj* 암fI방K지L하% 보험 출p</td>\n",
       "      <td>5</td>\n",
       "      <td></td>\n",
       "      <td>*%</td>\n",
       "      <td>현cj 암fI방K지L하 보험 출p</td>\n",
       "      <td>0.1</td>\n",
       "    </tr>\n",
       "  </tbody>\n",
       "</table>\n",
       "</div>"
      ],
      "text/plain": [
       "                       ID                            text  target hanza  \\\n",
       "1723  ynat-v1_train_01723            특징X mx소%\" q7적R전망Q1강l       5         \n",
       "528   ynat-v1_train_00528  朴대M령 북핵은/턱밑 비;M해결 않으면c한미에 큰 피f       2     朴   \n",
       "1263  ynat-v1_train_01263  v남도 P이버O,Z:뉴스에 지역 언론.5포함 O식 요청       3         \n",
       "2347  ynat-v1_train_02347  北미사일 발사 日언론 신속 보도…NHK는 정규방송 중단       5    北日   \n",
       "2371  ynat-v1_train_02371            현cj* 암fI방K지L하% 보험 출p       5         \n",
       "\n",
       "     special                filtered_text  noise_ratio  \n",
       "1723      %\"           특징X mx소 q7적R전망Q1강l          0.1  \n",
       "528      朴/;  대M령 북핵은턱밑 비M해결 않으면c한미에 큰 피f          0.1  \n",
       "1263     ,:.  v남도 P이버OZ뉴스에 지역 언론5포함 O식 요청          0.1  \n",
       "2347     北日…  미사일 발사 언론 신속 보도NHK는 정규방송 중단          0.1  \n",
       "2371      *%           현cj 암fI방K지L하 보험 출p          0.1  "
      ]
     },
     "metadata": {},
     "output_type": "display_data"
    }
   ],
   "source": [
    "high_special_character = df[df[\"noise_ratio\"] >= 0.1]\n",
    "print(len(high_special_character))\n",
    "high_special_character = high_special_character.sort_values(\n",
    "    by=[\"noise_ratio\"], axis=0, ascending=True\n",
    ")\n",
    "high_special_character.to_csv(\"high_special_character.csv\", index=False)\n",
    "high_special_character.head()"
   ]
  },
  {
   "cell_type": "code",
   "execution_count": null,
   "metadata": {},
   "outputs": [],
   "source": [
    "# 자주 사용되는 한자와 특수문자 - 노이즈 아닌 것이다.\n",
    "[\"美\", \"中\",\"北\", \"…\", \"~\", \"·\", \"+\", \"＋\", \"∼\"]"
   ]
  }
 ],
 "metadata": {
  "kernelspec": {
   "display_name": "main",
   "language": "python",
   "name": "python3"
  },
  "language_info": {
   "codemirror_mode": {
    "name": "ipython",
    "version": 3
   },
   "file_extension": ".py",
   "mimetype": "text/x-python",
   "name": "python",
   "nbconvert_exporter": "python",
   "pygments_lexer": "ipython3",
   "version": "3.10.13"
  }
 },
 "nbformat": 4,
 "nbformat_minor": 2
}

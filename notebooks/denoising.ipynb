{
 "cells": [
  {
   "cell_type": "code",
   "execution_count": 2,
   "metadata": {},
   "outputs": [
    {
     "data": {
      "text/plain": [
       "2800"
      ]
     },
     "execution_count": 2,
     "metadata": {},
     "output_type": "execute_result"
    }
   ],
   "source": [
    "import pandas as pd\n",
    "\n",
    "df = pd.read_csv(\"../data/2_noise_detected_2800.csv\")\n",
    "len(df)"
   ]
  },
  {
   "cell_type": "markdown",
   "metadata": {},
   "source": [
    "# 전처리"
   ]
  },
  {
   "cell_type": "markdown",
   "metadata": {},
   "source": [
    "## 1. 의미 없는 문자 제거"
   ]
  },
  {
   "cell_type": "code",
   "execution_count": 3,
   "metadata": {},
   "outputs": [
    {
     "data": {
      "text/html": [
       "<div>\n",
       "<style scoped>\n",
       "    .dataframe tbody tr th:only-of-type {\n",
       "        vertical-align: middle;\n",
       "    }\n",
       "\n",
       "    .dataframe tbody tr th {\n",
       "        vertical-align: top;\n",
       "    }\n",
       "\n",
       "    .dataframe thead th {\n",
       "        text-align: right;\n",
       "    }\n",
       "</style>\n",
       "<table border=\"1\" class=\"dataframe\">\n",
       "  <thead>\n",
       "    <tr style=\"text-align: right;\">\n",
       "      <th></th>\n",
       "      <th>ID</th>\n",
       "      <th>text</th>\n",
       "      <th>target</th>\n",
       "      <th>is_noise</th>\n",
       "    </tr>\n",
       "  </thead>\n",
       "  <tbody>\n",
       "    <tr>\n",
       "      <th>0</th>\n",
       "      <td>ynat-v1_train_00000</td>\n",
       "      <td>정i :파1 미사z KT( 이용기간 2e 단] Q분종U</td>\n",
       "      <td>4</td>\n",
       "      <td>1</td>\n",
       "    </tr>\n",
       "    <tr>\n",
       "      <th>1</th>\n",
       "      <td>ynat-v1_train_00001</td>\n",
       "      <td>K찰.국DLwo 로L3한N% 회장 2 T0&amp;}송=</td>\n",
       "      <td>3</td>\n",
       "      <td>1</td>\n",
       "    </tr>\n",
       "    <tr>\n",
       "      <th>2</th>\n",
       "      <td>ynat-v1_train_00002</td>\n",
       "      <td>m 김정) 자주통일 새,?r열1나가야</td>\n",
       "      <td>2</td>\n",
       "      <td>1</td>\n",
       "    </tr>\n",
       "    <tr>\n",
       "      <th>3</th>\n",
       "      <td>ynat-v1_train_00003</td>\n",
       "      <td>갤노트8 주말 27만대 개통…시장은 불법 보조금 얼룩</td>\n",
       "      <td>5</td>\n",
       "      <td>0</td>\n",
       "    </tr>\n",
       "    <tr>\n",
       "      <th>4</th>\n",
       "      <td>ynat-v1_train_00004</td>\n",
       "      <td>pI美대선I앞두고 R2fr단 발] $비해 감시 강화</td>\n",
       "      <td>6</td>\n",
       "      <td>1</td>\n",
       "    </tr>\n",
       "  </tbody>\n",
       "</table>\n",
       "</div>"
      ],
      "text/plain": [
       "                    ID                            text  target  is_noise\n",
       "0  ynat-v1_train_00000  정i :파1 미사z KT( 이용기간 2e 단] Q분종U       4         1\n",
       "1  ynat-v1_train_00001     K찰.국DLwo 로L3한N% 회장 2 T0&}송=       3         1\n",
       "2  ynat-v1_train_00002            m 김정) 자주통일 새,?r열1나가야       2         1\n",
       "3  ynat-v1_train_00003   갤노트8 주말 27만대 개통…시장은 불법 보조금 얼룩       5         0\n",
       "4  ynat-v1_train_00004    pI美대선I앞두고 R2fr단 발] $비해 감시 강화       6         1"
      ]
     },
     "execution_count": 3,
     "metadata": {},
     "output_type": "execute_result"
    }
   ],
   "source": [
    "# text 앞뒤에 그래픽/게시판/종합 등의 의미 없는 단어가 나오는 경우 삭제\n",
    "df[\"text\"] = df[\"text\"].replace(r\"^(그래픽|게시판)\", \"\", regex=True)\n",
    "df[\"text\"] = df[\"text\"].replace(r\"^(종합|1보|2보)\", \"\", regex=True)\n",
    "df[\"text\"] = df[\"text\"].replace(r\"(종합|종합1보|종합2보|1보|2보)$\", \"\", regex=True)\n",
    "df.head()"
   ]
  },
  {
   "cell_type": "code",
   "execution_count": 4,
   "metadata": {},
   "outputs": [
    {
     "data": {
      "text/html": [
       "<div>\n",
       "<style scoped>\n",
       "    .dataframe tbody tr th:only-of-type {\n",
       "        vertical-align: middle;\n",
       "    }\n",
       "\n",
       "    .dataframe tbody tr th {\n",
       "        vertical-align: top;\n",
       "    }\n",
       "\n",
       "    .dataframe thead th {\n",
       "        text-align: right;\n",
       "    }\n",
       "</style>\n",
       "<table border=\"1\" class=\"dataframe\">\n",
       "  <thead>\n",
       "    <tr style=\"text-align: right;\">\n",
       "      <th></th>\n",
       "      <th>ID</th>\n",
       "      <th>text</th>\n",
       "      <th>target</th>\n",
       "      <th>is_noise</th>\n",
       "    </tr>\n",
       "  </thead>\n",
       "  <tbody>\n",
       "    <tr>\n",
       "      <th>0</th>\n",
       "      <td>ynat-v1_train_00000</td>\n",
       "      <td>정i :파1 미사z KT( 이용기간 2e 단] Q분종U</td>\n",
       "      <td>4</td>\n",
       "      <td>1</td>\n",
       "    </tr>\n",
       "    <tr>\n",
       "      <th>1</th>\n",
       "      <td>ynat-v1_train_00001</td>\n",
       "      <td>K찰.국DLwo 로L3한N% 회장 2 T0&amp;}송=</td>\n",
       "      <td>3</td>\n",
       "      <td>1</td>\n",
       "    </tr>\n",
       "    <tr>\n",
       "      <th>2</th>\n",
       "      <td>ynat-v1_train_00002</td>\n",
       "      <td>m 김정) 자주통일 새,?r열1나가야</td>\n",
       "      <td>2</td>\n",
       "      <td>1</td>\n",
       "    </tr>\n",
       "    <tr>\n",
       "      <th>3</th>\n",
       "      <td>ynat-v1_train_00003</td>\n",
       "      <td>갤노트8 주말 27만대 개통 시장은 불법 보조금 얼룩</td>\n",
       "      <td>5</td>\n",
       "      <td>0</td>\n",
       "    </tr>\n",
       "    <tr>\n",
       "      <th>4</th>\n",
       "      <td>ynat-v1_train_00004</td>\n",
       "      <td>pI美대선I앞두고 R2fr단 발] $비해 감시 강화</td>\n",
       "      <td>6</td>\n",
       "      <td>1</td>\n",
       "    </tr>\n",
       "  </tbody>\n",
       "</table>\n",
       "</div>"
      ],
      "text/plain": [
       "                    ID                            text  target  is_noise\n",
       "0  ynat-v1_train_00000  정i :파1 미사z KT( 이용기간 2e 단] Q분종U       4         1\n",
       "1  ynat-v1_train_00001     K찰.국DLwo 로L3한N% 회장 2 T0&}송=       3         1\n",
       "2  ynat-v1_train_00002            m 김정) 자주통일 새,?r열1나가야       2         1\n",
       "3  ynat-v1_train_00003   갤노트8 주말 27만대 개통 시장은 불법 보조금 얼룩       5         0\n",
       "4  ynat-v1_train_00004    pI美대선I앞두고 R2fr단 발] $비해 감시 강화       6         1"
      ]
     },
     "execution_count": 4,
     "metadata": {},
     "output_type": "execute_result"
    }
   ],
   "source": [
    "# 말줄임표: 띄어쓰기 처리 혹은 제거\n",
    "df[\"text\"] = df[\"text\"].str.replace(\"…\", \" \")\n",
    "df[\"text\"] = df[\"text\"].str.replace(\"...\", \"\")\n",
    "df.head()"
   ]
  },
  {
   "cell_type": "markdown",
   "metadata": {},
   "source": [
    "## 2. 특수문자 제거"
   ]
  },
  {
   "cell_type": "code",
   "execution_count": 5,
   "metadata": {},
   "outputs": [
    {
     "data": {
      "text/html": [
       "<div>\n",
       "<style scoped>\n",
       "    .dataframe tbody tr th:only-of-type {\n",
       "        vertical-align: middle;\n",
       "    }\n",
       "\n",
       "    .dataframe tbody tr th {\n",
       "        vertical-align: top;\n",
       "    }\n",
       "\n",
       "    .dataframe thead th {\n",
       "        text-align: right;\n",
       "    }\n",
       "</style>\n",
       "<table border=\"1\" class=\"dataframe\">\n",
       "  <thead>\n",
       "    <tr style=\"text-align: right;\">\n",
       "      <th></th>\n",
       "      <th>ID</th>\n",
       "      <th>text</th>\n",
       "      <th>target</th>\n",
       "      <th>is_noise</th>\n",
       "    </tr>\n",
       "  </thead>\n",
       "  <tbody>\n",
       "    <tr>\n",
       "      <th>0</th>\n",
       "      <td>ynat-v1_train_00000</td>\n",
       "      <td>정i 파1 미사z KT 이용기간 2e 단 Q분종U</td>\n",
       "      <td>4</td>\n",
       "      <td>1</td>\n",
       "    </tr>\n",
       "    <tr>\n",
       "      <th>1</th>\n",
       "      <td>ynat-v1_train_00001</td>\n",
       "      <td>K찰국DLwo 로L3한N 회장 2 T0송</td>\n",
       "      <td>3</td>\n",
       "      <td>1</td>\n",
       "    </tr>\n",
       "    <tr>\n",
       "      <th>2</th>\n",
       "      <td>ynat-v1_train_00002</td>\n",
       "      <td>m 김정 자주통일 새r열1나가야</td>\n",
       "      <td>2</td>\n",
       "      <td>1</td>\n",
       "    </tr>\n",
       "    <tr>\n",
       "      <th>3</th>\n",
       "      <td>ynat-v1_train_00003</td>\n",
       "      <td>갤노트8 주말 27만대 개통 시장은 불법 보조금 얼룩</td>\n",
       "      <td>5</td>\n",
       "      <td>0</td>\n",
       "    </tr>\n",
       "    <tr>\n",
       "      <th>4</th>\n",
       "      <td>ynat-v1_train_00004</td>\n",
       "      <td>pI美대선I앞두고 R2fr단 발 비해 감시 강화</td>\n",
       "      <td>6</td>\n",
       "      <td>1</td>\n",
       "    </tr>\n",
       "  </tbody>\n",
       "</table>\n",
       "</div>"
      ],
      "text/plain": [
       "                    ID                           text  target  is_noise\n",
       "0  ynat-v1_train_00000    정i 파1 미사z KT 이용기간 2e 단 Q분종U       4         1\n",
       "1  ynat-v1_train_00001         K찰국DLwo 로L3한N 회장 2 T0송       3         1\n",
       "2  ynat-v1_train_00002              m 김정 자주통일 새r열1나가야       2         1\n",
       "3  ynat-v1_train_00003  갤노트8 주말 27만대 개통 시장은 불법 보조금 얼룩       5         0\n",
       "4  ynat-v1_train_00004     pI美대선I앞두고 R2fr단 발 비해 감시 강화       6         1"
      ]
     },
     "execution_count": 5,
     "metadata": {},
     "output_type": "execute_result"
    }
   ],
   "source": [
    "import re\n",
    "\n",
    "# 영어, 숫자, 한글, 한자 제외\n",
    "special_letter_pattern = r\"[^a-zA-Z0-9\\sㄱ-ㅎㅏ-ㅣ가-힣\\u4e00-\\u9fff]\"\n",
    "df[\"text\"] = df[\"text\"].replace(special_letter_pattern, \"\", regex=True)\n",
    "df.head()"
   ]
  },
  {
   "cell_type": "markdown",
   "metadata": {},
   "source": [
    "## 3. 한자는 한글 뜻을 함께 기입하여 사용"
   ]
  },
  {
   "cell_type": "code",
   "execution_count": 6,
   "metadata": {},
   "outputs": [
    {
     "name": "stdout",
     "output_type": "stream",
     "text": [
      "49 ['美', '北', '中', '朴', '靑', '日', '與', '文', '英', '野', '佛', '伊', '獨', '反', '前', '軍', '硏', '對', '外', '社', '黃', '亞', '韓', '株', '車', '崔', '院', '金', '丁', '小', '和', '企', '安', '展', '檢', '親', '銀', '證', '先', '父', '南', '詩', '家', '大', '印', '阿', '故', '州', '重']\n"
     ]
    }
   ],
   "source": [
    "from collections import Counter\n",
    "\n",
    "\n",
    "# 한자 추출 함수 정의\n",
    "def extract_hanza(text):\n",
    "    # CJK 통합 한자 범위(U+4E00 ~ U+9FFF)에 해당하는 문자 추출\n",
    "    return \"\".join(re.findall(\"[\\u4e00-\\u9fff]\", text))\n",
    "\n",
    "\n",
    "# 문자 빈도 축정\n",
    "def get_char_frequency(text_list):\n",
    "    # 모든 문자를 하나의 리스트로 합치기\n",
    "    chars = [char for text in text_list for char in text]\n",
    "    # Counter를 사용하여 빈도 계산\n",
    "    char_counts = Counter(chars)\n",
    "    # 빈도순으로 정렬\n",
    "    return pd.Series(char_counts).sort_values(ascending=False)\n",
    "\n",
    "# 한자 빈도수 측정\n",
    "hanza = df[\"text\"].apply(extract_hanza)\n",
    "\n",
    "char_frequency = get_char_frequency(hanza)\n",
    "hanza = list(char_frequency.keys())\n",
    "print(len(hanza), hanza)"
   ]
  },
  {
   "cell_type": "code",
   "execution_count": 7,
   "metadata": {},
   "outputs": [],
   "source": [
    "hanza_hangul_meaning = [\n",
    "    ('美', '미국', '나라'), ('北', '북한', '나라'), ('中', '중국', '나라'),\n",
    "    ('朴', '박', '성씨'), ('靑', '청와대', '정치'), ('日', '일본', '나라'),\n",
    "    ('與', '여당', '정치'), ('文', '문','성씨'), ('英', '영국', '나라'),\n",
    "    ('野', '야당', '정치'), ('佛', '프랑스', '나라'), ('伊', '이탈리아', '나라'),\n",
    "    ('獨', '독일', '나라'), ('反', '반', '일반'), ('前', '전', '일반'),\n",
    "    ('軍', '군대', '일반'), ('硏', '연구원', '일반'), ('對', '대', '일반'),\n",
    "    ('外', '외', '일반'), ('社', '회사', '경제'), ('黃', '황','성씨'),\n",
    "    ('亞', '아시아', '나라'), ('韓', '한국', '나라'), ('株', '주식', '경제'),\n",
    "    ('車', '차', '일반'), ('崔', '최','성씨'), ('院', '위원', '일반'),\n",
    "    ('金', '김','성씨'), ('丁', '정','성씨'), ('小', '소', '일반'),\n",
    "    ('和', '네덜란드', '나라'), ('企', '기업', '경제'), ('安', '안','성씨'),\n",
    "    ('展', '전시', '일반'), ('檢', '검찰', '정치'), ('親', '친', '일반'),\n",
    "    ('銀', '은행', '경제'), ('證', '증권', '경제'), ('先', '선', '일반'),\n",
    "    ('父', '아버지', '일반'), ('南', '남한', '나라'), ('詩', '시', '일반'),\n",
    "    ('家', '집안', '일반'), ('大', '대', '일반'), ('印', '인도', '나라'),\n",
    "    ('阿', '아프리카', '나라'), ('故', '고', '일반'), ('州', '주', '나라'),\n",
    "    ('重', '중공업', '경제')\n",
    "]\n",
    "\n",
    "def annotate_hanzi_with_meaning(text):\n",
    "    for hanzi, hangul, _ in hanza_hangul_meaning:\n",
    "        text = text.replace(hanzi, f\"{hanzi}({hangul})\")\n",
    "    return text"
   ]
  },
  {
   "cell_type": "code",
   "execution_count": 8,
   "metadata": {},
   "outputs": [],
   "source": [
    "df.loc[:, \"text\"] = df[\"text\"].apply(annotate_hanzi_with_meaning)\n",
    "df.head(10)"
   ]
  },
  {
   "cell_type": "code",
   "execution_count": 10,
   "metadata": {},
   "outputs": [],
   "source": [
    "df.to_csv(\"3_d_2800_hanzi_dictionary.csv\", index=False)"
   ]
  },
  {
   "cell_type": "markdown",
   "metadata": {},
   "source": [
    "## 4. 형태소 분석기로 노이즈 제거"
   ]
  },
  {
   "cell_type": "code",
   "execution_count": 11,
   "metadata": {},
   "outputs": [],
   "source": [
    "df = df[df[\"is_noise\"]==1]\n",
    "df.head()"
   ]
  },
  {
   "cell_type": "code",
   "execution_count": null,
   "metadata": {},
   "outputs": [],
   "source": [
    "# 형태소 분석기 임포트\n",
    "from konlpy.tag import *\n",
    "okt = Okt()"
   ]
  },
  {
   "cell_type": "code",
   "execution_count": null,
   "metadata": {},
   "outputs": [],
   "source": [
    "df[\"pos_tagging\"] = df[\"text\"].copy()\n",
    "df[\"okt\"] = df[\"pos_tagging\"].apply(lambda text: okt.pos(text))"
   ]
  }
 ],
 "metadata": {
  "kernelspec": {
   "display_name": "main",
   "language": "python",
   "name": "python3"
  },
  "language_info": {
   "codemirror_mode": {
    "name": "ipython",
    "version": 3
   },
   "file_extension": ".py",
   "mimetype": "text/x-python",
   "name": "python",
   "nbconvert_exporter": "python",
   "pygments_lexer": "ipython3",
   "version": "3.10.13"
  }
 },
 "nbformat": 4,
 "nbformat_minor": 2
}

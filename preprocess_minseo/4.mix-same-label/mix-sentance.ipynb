{
 "cells": [
  {
   "metadata": {
    "ExecuteTime": {
     "end_time": "2024-11-07T04:09:44.801836Z",
     "start_time": "2024-11-07T04:09:44.474097Z"
    }
   },
   "cell_type": "code",
   "source": "import pandas as pd",
   "id": "6a22e8b37ce5c8cd",
   "outputs": [],
   "execution_count": 2
  },
  {
   "cell_type": "code",
   "id": "initial_id",
   "metadata": {
    "collapsed": true,
    "ExecuteTime": {
     "end_time": "2024-11-07T05:03:51.241331Z",
     "start_time": "2024-11-07T05:03:51.235265Z"
    }
   },
   "source": [
    "just_relabel = \"../../data/train_cleaning_label_5sj.csv\"\n",
    "just_relabel_output = \"../../data/train_cleaning_label_5sj_aug800.csv\"\n",
    "with_denoise = \"../../data/train_cleaning_label_5sj_denoise_add_by_llm_wo_error.csv\"\n",
    "with_denoise_output = \"../../data/train_cleaning_label_5sj_denoise_add_by_llm_wo_error_aug800200.csv\""
   ],
   "outputs": [],
   "execution_count": 116
  },
  {
   "metadata": {
    "ExecuteTime": {
     "end_time": "2024-11-07T05:03:52.044685Z",
     "start_time": "2024-11-07T05:03:52.016963Z"
    }
   },
   "cell_type": "code",
   "source": [
    "just_relabel_df = pd.read_csv(with_denoise)\n",
    "\n",
    "print(just_relabel_df)"
   ],
   "id": "7893c142d1ac5246",
   "outputs": [
    {
     "name": "stdout",
     "output_type": "stream",
     "text": [
      "                       ID                                  text  target  \\\n",
      "0     ynat-v1_train_00000      정i :파1 미사z KT( 이용기간 2e 단] Q분종U2보       4   \n",
      "1     ynat-v1_train_00001           K찰.국DLwo 로L3한N% 회장 2 T0&}송=       3   \n",
      "2     ynat-v1_train_00002                m 김정) 자주통일 새,?r열1나가야1보       2   \n",
      "3     ynat-v1_train_00003         갤노트8 주말 27만대 개통…시장은 불법 보조금 얼룩       4   \n",
      "4     ynat-v1_train_00004          pI美대선I앞두고 R2fr단 발] $비해 감시 강화       6   \n",
      "...                   ...                                   ...     ...   \n",
      "4366  ynat-v1_train_02787            1. 3인조 살인범 검거, 범인들은 전직 군인들       6   \n",
      "4367  ynat-v1_train_02788                 남원 소식: 봄 학기 대학생 모집 안내       0   \n",
      "4368  ynat-v1_train_02789    이낙연 총리, 4대 사회보험제도 완납 못해...남은 과제 많아       2   \n",
      "4369  ynat-v1_train_02792      손흥민 선수 몸값 상승세 지속...유럽 내 최고 수준 도달       1   \n",
      "4370  ynat-v1_train_02797  텔레그램 한달 무료 이용 등 아시아서 서비스 30분 단축...버전       4   \n",
      "\n",
      "      is_noise  text_length  \n",
      "0          NaN           32  \n",
      "1          NaN           27  \n",
      "2          NaN           22  \n",
      "3          NaN           29  \n",
      "4          NaN           28  \n",
      "...        ...          ...  \n",
      "4366       1.0           26  \n",
      "4367       1.0           21  \n",
      "4368       1.0           34  \n",
      "4369       1.0           32  \n",
      "4370       1.0           36  \n",
      "\n",
      "[4371 rows x 5 columns]\n"
     ]
    }
   ],
   "execution_count": 117
  },
  {
   "metadata": {
    "ExecuteTime": {
     "end_time": "2024-11-07T05:03:52.526976Z",
     "start_time": "2024-11-07T05:03:52.520469Z"
    }
   },
   "cell_type": "code",
   "source": [
    "# Splitting into separate DataFrames by label\n",
    "label_dfs = {label: just_relabel_df[just_relabel_df['target'] == label].copy() for label in range(7)}"
   ],
   "id": "f862dce313bca7dc",
   "outputs": [],
   "execution_count": 118
  },
  {
   "metadata": {
    "ExecuteTime": {
     "end_time": "2024-11-07T05:03:52.775591Z",
     "start_time": "2024-11-07T05:03:52.763591Z"
    }
   },
   "cell_type": "code",
   "source": [
    "def augment_data(df, label, num_samples=800):\n",
    "    augmented_data = []\n",
    "    for _ in range(num_samples):\n",
    "        text1, text2 = df['text'].sample(2, replace=True).tolist()\n",
    "        \n",
    "        # 문장을 스페이스바 기준으로 나누기\n",
    "        split_text1 = text1.split()\n",
    "        split_text2 = text2.split()\n",
    "        \n",
    "        half_text1 = \" \".join(split_text1[:len(split_text1) // 2])\n",
    "        half_text2 = \" \".join(split_text2[len(split_text2) // 2:])\n",
    "        \n",
    "        augmented_text = f\"{half_text1} {half_text2}\"\n",
    "        augmented_data.append({\"ID\": f\"aug_{label}_{_}\", \"text\": augmented_text, \"target\": label})\n",
    "    \n",
    "    return pd.DataFrame(augmented_data)\n",
    "def re_augment_data(df, label, num_samples=200):\n",
    "    augmented_data = []\n",
    "    for _ in range(num_samples):\n",
    "        text1, text2 = df['text'].sample(2, replace=True).tolist()\n",
    "        \n",
    "        # 문장을 스페이스바 기준으로 나누기\n",
    "        split_text1 = text1.split()\n",
    "        split_text2 = text2.split()\n",
    "        \n",
    "        half_text1 = \" \".join(split_text1[:len(split_text1) // 2])\n",
    "        half_text2 = \" \".join(split_text2[len(split_text2) // 2:])\n",
    "        augmented_text = f\"{half_text2} {half_text1}\"\n",
    "        augmented_data.append({\"ID\": f\"aug_{label}_{_}\", \"text\": augmented_text, \"target\": label})\n",
    "    \n",
    "    return pd.DataFrame(augmented_data)"
   ],
   "id": "32fbcf99deae1cc2",
   "outputs": [],
   "execution_count": 119
  },
  {
   "metadata": {
    "ExecuteTime": {
     "end_time": "2024-11-07T05:03:53.681578Z",
     "start_time": "2024-11-07T05:03:53.370761Z"
    }
   },
   "cell_type": "code",
   "source": [
    "# Augmenting each label DataFrame\n",
    "augmented_dfs = [augment_data(df_label, label) for label, df_label in label_dfs.items()]\n",
    "re_augmented_dfs = [re_augment_data(df_label, label) for label, df_label in label_dfs.items()]\n",
    "\n",
    "# augmented_dfs와 re_augmented_dfs를 합침\n",
    "all_augmented_dfs = augmented_dfs + re_augmented_dfs\n",
    "\n",
    "# 원본 데이터프레임과 합친다\n",
    "df_combined = pd.concat([just_relabel_df] + all_augmented_dfs, ignore_index=True)\n"
   ],
   "id": "cb1fd7aa74f381e",
   "outputs": [],
   "execution_count": 120
  },
  {
   "metadata": {
    "ExecuteTime": {
     "end_time": "2024-11-07T05:03:54.769250Z",
     "start_time": "2024-11-07T05:03:54.757079Z"
    }
   },
   "cell_type": "code",
   "source": "df_combined\n",
   "id": "160cc552cb151580",
   "outputs": [
    {
     "data": {
      "text/plain": [
       "                        ID                                 text  target  \\\n",
       "0      ynat-v1_train_00000     정i :파1 미사z KT( 이용기간 2e 단] Q분종U2보       4   \n",
       "1      ynat-v1_train_00001          K찰.국DLwo 로L3한N% 회장 2 T0&}송=       3   \n",
       "2      ynat-v1_train_00002               m 김정) 자주통일 새,?r열1나가야1보       2   \n",
       "3      ynat-v1_train_00003        갤노트8 주말 27만대 개통…시장은 불법 보조금 얼룩       4   \n",
       "4      ynat-v1_train_00004         pI美대선I앞두고 R2fr단 발] $비해 감시 강화       6   \n",
       "...                    ...                                  ...     ...   \n",
       "11366            aug_6_195  연 터키 최대 이슬람 사원 참르자 에마뉘엘 마크롱 프랑스 대통령       6   \n",
       "11367            aug_6_196             정권*진 요구종합 이란L우라늄 n|에 '성능       6   \n",
       "11368            aug_6_197     방송서 이스라엘과 군사협력 인정 호르무즈 호위연합 추진 美       6   \n",
       "11369            aug_6_198              강정호와 y별p T 스리랑카 말라リア 발병       6   \n",
       "11370            aug_6_199     허9범k서R대북경1 강화 VnA 미국 항고법원 인터넷 검열       6   \n",
       "\n",
       "       is_noise  text_length  \n",
       "0           NaN         32.0  \n",
       "1           NaN         27.0  \n",
       "2           NaN         22.0  \n",
       "3           NaN         29.0  \n",
       "4           NaN         28.0  \n",
       "...         ...          ...  \n",
       "11366       NaN          NaN  \n",
       "11367       NaN          NaN  \n",
       "11368       NaN          NaN  \n",
       "11369       NaN          NaN  \n",
       "11370       NaN          NaN  \n",
       "\n",
       "[11371 rows x 5 columns]"
      ],
      "text/html": [
       "<div>\n",
       "<style scoped>\n",
       "    .dataframe tbody tr th:only-of-type {\n",
       "        vertical-align: middle;\n",
       "    }\n",
       "\n",
       "    .dataframe tbody tr th {\n",
       "        vertical-align: top;\n",
       "    }\n",
       "\n",
       "    .dataframe thead th {\n",
       "        text-align: right;\n",
       "    }\n",
       "</style>\n",
       "<table border=\"1\" class=\"dataframe\">\n",
       "  <thead>\n",
       "    <tr style=\"text-align: right;\">\n",
       "      <th></th>\n",
       "      <th>ID</th>\n",
       "      <th>text</th>\n",
       "      <th>target</th>\n",
       "      <th>is_noise</th>\n",
       "      <th>text_length</th>\n",
       "    </tr>\n",
       "  </thead>\n",
       "  <tbody>\n",
       "    <tr>\n",
       "      <th>0</th>\n",
       "      <td>ynat-v1_train_00000</td>\n",
       "      <td>정i :파1 미사z KT( 이용기간 2e 단] Q분종U2보</td>\n",
       "      <td>4</td>\n",
       "      <td>NaN</td>\n",
       "      <td>32.0</td>\n",
       "    </tr>\n",
       "    <tr>\n",
       "      <th>1</th>\n",
       "      <td>ynat-v1_train_00001</td>\n",
       "      <td>K찰.국DLwo 로L3한N% 회장 2 T0&amp;}송=</td>\n",
       "      <td>3</td>\n",
       "      <td>NaN</td>\n",
       "      <td>27.0</td>\n",
       "    </tr>\n",
       "    <tr>\n",
       "      <th>2</th>\n",
       "      <td>ynat-v1_train_00002</td>\n",
       "      <td>m 김정) 자주통일 새,?r열1나가야1보</td>\n",
       "      <td>2</td>\n",
       "      <td>NaN</td>\n",
       "      <td>22.0</td>\n",
       "    </tr>\n",
       "    <tr>\n",
       "      <th>3</th>\n",
       "      <td>ynat-v1_train_00003</td>\n",
       "      <td>갤노트8 주말 27만대 개통…시장은 불법 보조금 얼룩</td>\n",
       "      <td>4</td>\n",
       "      <td>NaN</td>\n",
       "      <td>29.0</td>\n",
       "    </tr>\n",
       "    <tr>\n",
       "      <th>4</th>\n",
       "      <td>ynat-v1_train_00004</td>\n",
       "      <td>pI美대선I앞두고 R2fr단 발] $비해 감시 강화</td>\n",
       "      <td>6</td>\n",
       "      <td>NaN</td>\n",
       "      <td>28.0</td>\n",
       "    </tr>\n",
       "    <tr>\n",
       "      <th>...</th>\n",
       "      <td>...</td>\n",
       "      <td>...</td>\n",
       "      <td>...</td>\n",
       "      <td>...</td>\n",
       "      <td>...</td>\n",
       "    </tr>\n",
       "    <tr>\n",
       "      <th>11366</th>\n",
       "      <td>aug_6_195</td>\n",
       "      <td>연 터키 최대 이슬람 사원 참르자 에마뉘엘 마크롱 프랑스 대통령</td>\n",
       "      <td>6</td>\n",
       "      <td>NaN</td>\n",
       "      <td>NaN</td>\n",
       "    </tr>\n",
       "    <tr>\n",
       "      <th>11367</th>\n",
       "      <td>aug_6_196</td>\n",
       "      <td>정권*진 요구종합 이란L우라늄 n|에 '성능</td>\n",
       "      <td>6</td>\n",
       "      <td>NaN</td>\n",
       "      <td>NaN</td>\n",
       "    </tr>\n",
       "    <tr>\n",
       "      <th>11368</th>\n",
       "      <td>aug_6_197</td>\n",
       "      <td>방송서 이스라엘과 군사협력 인정 호르무즈 호위연합 추진 美</td>\n",
       "      <td>6</td>\n",
       "      <td>NaN</td>\n",
       "      <td>NaN</td>\n",
       "    </tr>\n",
       "    <tr>\n",
       "      <th>11369</th>\n",
       "      <td>aug_6_198</td>\n",
       "      <td>강정호와 y별p T 스리랑카 말라リア 발병</td>\n",
       "      <td>6</td>\n",
       "      <td>NaN</td>\n",
       "      <td>NaN</td>\n",
       "    </tr>\n",
       "    <tr>\n",
       "      <th>11370</th>\n",
       "      <td>aug_6_199</td>\n",
       "      <td>허9범k서R대북경1 강화 VnA 미국 항고법원 인터넷 검열</td>\n",
       "      <td>6</td>\n",
       "      <td>NaN</td>\n",
       "      <td>NaN</td>\n",
       "    </tr>\n",
       "  </tbody>\n",
       "</table>\n",
       "<p>11371 rows × 5 columns</p>\n",
       "</div>"
      ]
     },
     "execution_count": 121,
     "metadata": {},
     "output_type": "execute_result"
    }
   ],
   "execution_count": 121
  },
  {
   "metadata": {
    "ExecuteTime": {
     "end_time": "2024-11-07T05:03:57.949636Z",
     "start_time": "2024-11-07T05:03:57.918716Z"
    }
   },
   "cell_type": "code",
   "source": "df_combined.to_csv(with_denoise_output, index=False)",
   "id": "196fa761fc86c935",
   "outputs": [],
   "execution_count": 122
  },
  {
   "metadata": {},
   "cell_type": "code",
   "outputs": [],
   "execution_count": null,
   "source": "",
   "id": "202aa7e44257bfc"
  }
 ],
 "metadata": {
  "kernelspec": {
   "display_name": "Python 3",
   "language": "python",
   "name": "python3"
  },
  "language_info": {
   "codemirror_mode": {
    "name": "ipython",
    "version": 2
   },
   "file_extension": ".py",
   "mimetype": "text/x-python",
   "name": "python",
   "nbconvert_exporter": "python",
   "pygments_lexer": "ipython2",
   "version": "2.7.6"
  }
 },
 "nbformat": 4,
 "nbformat_minor": 5
}

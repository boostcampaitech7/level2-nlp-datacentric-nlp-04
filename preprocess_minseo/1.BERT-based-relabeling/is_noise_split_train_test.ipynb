{
 "cells": [
  {
   "cell_type": "code",
   "id": "initial_id",
   "metadata": {
    "collapsed": true,
    "ExecuteTime": {
     "end_time": "2024-11-05T00:30:08.355532Z",
     "start_time": "2024-11-05T00:30:08.006080Z"
    }
   },
   "source": [
    "import pandas as pd\n",
    "\n",
    "# 데이터 불러오기\n",
    "test_with_predictions_path = \"../data/5_base_noise_detected.csv\"\n",
    "df = pd.read_csv(test_with_predictions_path)\n",
    "\n",
    "# is_noise 값에 따라 데이터프레임 분리\n",
    "train_df = df[df[\"is_noise\"] == 1]\n",
    "test_df = df[df[\"is_noise\"] != 1]\n",
    "\n",
    "# 각 데이터프레임의 길이 출력\n",
    "print(f\"Train 데이터프레임 길이: {len(train_df)}\")\n",
    "print(f\"Test 데이터프레임 길이: {len(test_df)}\")"
   ],
   "outputs": [
    {
     "name": "stdout",
     "output_type": "stream",
     "text": [
      "Train 데이터프레임 길이: 1602\n",
      "Test 데이터프레임 길이: 1198\n"
     ]
    }
   ],
   "execution_count": 1
  },
  {
   "metadata": {
    "ExecuteTime": {
     "end_time": "2024-11-05T00:30:48.392134Z",
     "start_time": "2024-11-05T00:30:48.373835Z"
    }
   },
   "cell_type": "code",
   "source": [
    "# 각각 CSV 파일로 저장\n",
    "train_df.to_csv(\"../data/5_base_noise_detected_train.csv\", index=False)\n",
    "test_df.to_csv(\"../data/5_base_noise_detected_test.csv\", index=False)\n",
    "\n",
    "print(\"데이터가 각각 5_base_noise_detected_train.csv와 5_base_noise_detected_test.csv로 저장되었습니다.\")"
   ],
   "id": "f1facb9c7a4b13a4",
   "outputs": [
    {
     "name": "stdout",
     "output_type": "stream",
     "text": [
      "데이터가 각각 train_noise_detected.csv와 test_noise_detected.csv로 저장되었습니다.\n"
     ]
    }
   ],
   "execution_count": 2
  },
  {
   "metadata": {},
   "cell_type": "code",
   "outputs": [],
   "execution_count": null,
   "source": "",
   "id": "6b4076f5eba5f263"
  }
 ],
 "metadata": {
  "kernelspec": {
   "display_name": "Python 3",
   "language": "python",
   "name": "python3"
  },
  "language_info": {
   "codemirror_mode": {
    "name": "ipython",
    "version": 2
   },
   "file_extension": ".py",
   "mimetype": "text/x-python",
   "name": "python",
   "nbconvert_exporter": "python",
   "pygments_lexer": "ipython2",
   "version": "2.7.6"
  }
 },
 "nbformat": 4,
 "nbformat_minor": 5
}

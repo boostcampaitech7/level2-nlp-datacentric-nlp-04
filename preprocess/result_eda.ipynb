{
 "cells": [
  {
   "cell_type": "code",
   "execution_count": null,
   "id": "initial_id",
   "metadata": {
    "collapsed": true
   },
   "outputs": [],
   "source": [
    ""
   ]
  },
  {
   "metadata": {
    "ExecuteTime": {
     "end_time": "2024-11-04T05:00:37.065328Z",
     "start_time": "2024-11-04T05:00:37.049327Z"
    }
   },
   "cell_type": "code",
   "source": [
    "import pandas as pd\n",
    "\n",
    "# 파일 경로에 맞게 수정하세요\n",
    "test_with_predictions_path = \"../data/test_with_predictions.csv\"\n",
    "df_morph_condition_V1_test_wt_path = \"../data/df_morph_condition_V1_test_wt.csv\"\n",
    "\n",
    "# 파일 불러오기\n",
    "test_with_predictions = pd.read_csv(test_with_predictions_path)\n",
    "df_morph_condition_V1_test_wt = pd.read_csv(df_morph_condition_V1_test_wt_path)\n",
    "\n",
    "# prev_target 열 추가하여 타겟 정보 복사\n",
    "test_with_predictions[\"prev_target\"] = df_morph_condition_V1_test_wt[\"target\"]\n",
    "\n",
    "# 결과 확인\n",
    "print(test_with_predictions.head())\n"
   ],
   "id": "ae1c70bc7324123f",
   "outputs": [
    {
     "name": "stdout",
     "output_type": "stream",
     "text": [
      "                    ID                              text  target  prev_target\n",
      "0  ynat-v1_train_00002            m 김정) 자주통일 새,?r열1나가야1보       2            2\n",
      "1  ynat-v1_train_00003     갤노트8 주말 27만대 개통…시장은 불법 보조금 얼룩       5            5\n",
      "2  ynat-v1_train_00005    美성인 6명 중 1명꼴 배우자·연인 빚 떠안은 적 있다       6            0\n",
      "3  ynat-v1_train_00006             프로야구~롯TKIAs광주 경기 y천취소       1            1\n",
      "4  ynat-v1_train_00007  아가메즈 33득점 우리카드 KB손해보험 완파…3위 굳...       1            4\n"
     ]
    }
   ],
   "execution_count": 2
  },
  {
   "metadata": {
    "ExecuteTime": {
     "end_time": "2024-11-04T05:01:14.899807Z",
     "start_time": "2024-11-04T05:01:14.880807Z"
    }
   },
   "cell_type": "code",
   "source": [
    "# prev_target과 target 값이 다른 행 필터링\n",
    "diff_count = (test_with_predictions[\"prev_target\"] != test_with_predictions[\"target\"]).sum()\n",
    "\n",
    "print(f\"prev_target과 target이 다른 행의 개수: {diff_count}\")\n"
   ],
   "id": "6958b814df142a29",
   "outputs": [
    {
     "name": "stdout",
     "output_type": "stream",
     "text": [
      "prev_target과 target이 다른 행의 개수: 1192\n"
     ]
    }
   ],
   "execution_count": 3
  },
  {
   "metadata": {},
   "cell_type": "code",
   "outputs": [],
   "execution_count": null,
   "source": "",
   "id": "cdb5b74390446180"
  }
 ],
 "metadata": {
  "kernelspec": {
   "display_name": "Python 3",
   "language": "python",
   "name": "python3"
  },
  "language_info": {
   "codemirror_mode": {
    "name": "ipython",
    "version": 2
   },
   "file_extension": ".py",
   "mimetype": "text/x-python",
   "name": "python",
   "nbconvert_exporter": "python",
   "pygments_lexer": "ipython2",
   "version": "2.7.6"
  }
 },
 "nbformat": 4,
 "nbformat_minor": 5
}

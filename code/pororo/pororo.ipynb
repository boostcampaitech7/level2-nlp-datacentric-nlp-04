{
 "cells": [
  {
   "metadata": {},
   "cell_type": "markdown",
   "source": "",
   "id": "52f362c5288c921"
  },
  {
   "metadata": {},
   "cell_type": "markdown",
   "source": "### readme.md를 읽고 pororo를 먼저 설치해주세요!",
   "id": "7e60f30d4f35b6fa"
  },
  {
   "metadata": {},
   "cell_type": "code",
   "outputs": [],
   "execution_count": null,
   "source": [
    "from pororo import Pororo\n",
    "import pandas as pd\n",
    "from tqdm import tqdm"
   ],
   "id": "9fd2f6ff7ea30b28"
  },
  {
   "metadata": {},
   "cell_type": "code",
   "outputs": [],
   "execution_count": null,
   "source": "df = pd.read_csv(\"/content/9_relabeling_2800.csv\") # 데이터 경로 맞게 고치기",
   "id": "d5e4ab836391bd1a"
  },
  {
   "metadata": {},
   "cell_type": "code",
   "outputs": [],
   "execution_count": null,
   "source": "mt = Pororo(task=\"translation\", lang=\"multi\")",
   "id": "5c054dea37daa0c"
  },
  {
   "metadata": {},
   "cell_type": "code",
   "outputs": [],
   "execution_count": null,
   "source": [
    "def back_translation(text, lang='en'):\n",
    "    trans_text = mt(text, src='ko',tgt=lang)\n",
    "    backtrans_text = mt(trans_text, src=lang, tgt='ko')\n",
    "    return backtrans_text"
   ],
   "id": "db838ed64cc365b0"
  },
  {
   "metadata": {},
   "cell_type": "code",
   "outputs": [],
   "execution_count": null,
   "source": [
    "tqdm.pandas()  # tqdm의 progress_apply 사용 준비\n",
    "df['back_translation'] = df['text'].progress_apply(back_translation)"
   ],
   "id": "e12249c054be63f8"
  }
 ],
 "metadata": {
  "kernelspec": {
   "display_name": "Python 3",
   "language": "python",
   "name": "python3"
  },
  "language_info": {
   "codemirror_mode": {
    "name": "ipython",
    "version": 2
   },
   "file_extension": ".py",
   "mimetype": "text/x-python",
   "name": "python",
   "nbconvert_exporter": "python",
   "pygments_lexer": "ipython2",
   "version": "2.7.6"
  }
 },
 "nbformat": 4,
 "nbformat_minor": 5
}
